{
 "cells": [
  {
   "cell_type": "code",
   "execution_count": 1,
   "metadata": {},
   "outputs": [],
   "source": [
    "#Import the necessary methods from tweepy library\n",
    "from tweepy.streaming import StreamListener\n",
    "from tweepy import OAuthHandler\n",
    "from tweepy import Stream"
   ]
  },
  {
   "cell_type": "code",
   "execution_count": 2,
   "metadata": {},
   "outputs": [],
   "source": [
    "#Variables that contains the user credentials to access Twitter API \n",
    "access_token = \"1203742114988908544-qfDwxyR4JoHhlf4C6H4GonthJcE1KD\"\n",
    "access_token_secret = \"BcNCqQldfNS0gdfCEsUcMMU2ihPTUMxQqpGOWQvtKmtHd\"\n",
    "consumer_key = \"0FTmsgwcuBfRK8bzASgwmBXeR\"\n",
    "consumer_secret = \"68SZw1NOSI47xQ4qTzPBZmGExxQrjxqVhFlNFnc3GSGwyKTV5l\""
   ]
  },
  {
   "cell_type": "code",
   "execution_count": null,
   "metadata": {},
   "outputs": [],
   "source": [
    "#This is a basic listener that just prints received tweets to stdout.\n",
    "\n",
    "MAX_NUM_TWEETS = 50000\n",
    "class StdOutListener(StreamListener):\n",
    "    def __init__(self):\n",
    "        self.count = 0\n",
    "\n",
    "    def on_data(self, data):\n",
    "        self.count += 1\n",
    "        print(data)\n",
    "        if self.count > MAX_NUM_TWEETS:\n",
    "            return False\n",
    "        return True\n",
    "\n",
    "    def on_error(self, status):\n",
    "        print(status)\n",
    "\n",
    "\n",
    "if __name__ == '__main__':\n",
    "\n",
    "    #This handles Twitter authetification and the connection to Twitter Streaming API\n",
    "    l = StdOutListener()\n",
    "    auth = OAuthHandler(consumer_key, consumer_secret)\n",
    "    auth.set_access_token(access_token, access_token_secret)\n",
    "    stream = Stream(auth, l)\n",
    "    \n",
    "    #This line filter Twitter Streams to capture data by the keywords: 'FIFA', 'World', 'Cup','football' etc.\n",
    "    # stream.filter(track=['FIFA', 'World','Cup','football', 'FIFA World Cup','#FIFA2018','WorldCup','#WorldCup2018','#FifaWorldCup','#FIFAWorldCup','RUSKSA','#RUSKSA','prediction','win','#FIFA'])\n",
    "    stream.filter(track=['#PremierLeague','#SkySport'])"
   ]
  },
  {
   "cell_type": "code",
   "execution_count": null,
   "metadata": {},
   "outputs": [],
   "source": []
  },
  {
   "cell_type": "code",
   "execution_count": null,
   "metadata": {},
   "outputs": [],
   "source": []
  },
  {
   "cell_type": "code",
   "execution_count": null,
   "metadata": {},
   "outputs": [],
   "source": []
  },
  {
   "cell_type": "code",
   "execution_count": null,
   "metadata": {},
   "outputs": [],
   "source": []
  },
  {
   "cell_type": "code",
   "execution_count": null,
   "metadata": {},
   "outputs": [],
   "source": []
  },
  {
   "cell_type": "code",
   "execution_count": null,
   "metadata": {},
   "outputs": [],
   "source": []
  },
  {
   "cell_type": "code",
   "execution_count": null,
   "metadata": {},
   "outputs": [],
   "source": []
  }
 ],
 "metadata": {
  "kernelspec": {
   "display_name": "Python 3",
   "language": "python",
   "name": "python3"
  },
  "language_info": {
   "codemirror_mode": {
    "name": "ipython",
    "version": 3
   },
   "file_extension": ".py",
   "mimetype": "text/x-python",
   "name": "python",
   "nbconvert_exporter": "python",
   "pygments_lexer": "ipython3",
   "version": "3.7.1"
  }
 },
 "nbformat": 4,
 "nbformat_minor": 2
}
